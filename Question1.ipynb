{
 "cells": [
  {
   "cell_type": "code",
   "execution_count": 75,
   "metadata": {},
   "outputs": [
    {
     "name": "stdout",
     "output_type": "stream",
     "text": [
      "          BodyPart  Frequency\n",
      "0             Head       9891\n",
      "1             Face       5786\n",
      "2           Finger       5783\n",
      "3     Trunk, lower       5717\n",
      "4     Trunk, upper       3868\n",
      "5            Ankle       3781\n",
      "6             Knee       3616\n",
      "7             Hand       3369\n",
      "8             Foot       3090\n",
      "9         Shoulder       2675\n",
      "10      Arm, lower       2561\n",
      "11      Leg, lower       2239\n",
      "12           Wrist       2116\n",
      "13           Elbow       1612\n",
      "14    >50% of body       1422\n",
      "15             Toe       1280\n",
      "16           Mouth       1254\n",
      "17            Neck       1080\n",
      "18         Eyeball        847\n",
      "19             Ear        782\n",
      "20      Leg, upper        756\n",
      "21      Arm, upper        745\n",
      "22        Internal        549\n",
      "23    Not Recorded        390\n",
      "24    Pubic region        286\n",
      "25  25-50% of body          4\n"
     ]
    }
   ],
   "source": [
    "import pandas as pd\n",
    "\n",
    "neiss_df = pd.read_csv('NEISS2014.csv')\n",
    "bp_df = pd.read_csv('BodyParts.csv')\n",
    "\n",
    "# Add bodyParts data to NEISS dataframe\n",
    "main_df = pd.merge(neiss_df, bp_df, left_on='body_part', right_on='Code')\n",
    "\n",
    "# Get bodyParts frequency dataframe ordered in descending frequency and rename columns\n",
    "bp_freq_df = pd.DataFrame(data=main_df['BodyPart'].value_counts()).reset_index().rename(columns={'index': 'BodyPart', 'BodyPart': 'Frequency'})\n",
    "\n",
    "# Print out BodyParts Frequency dataframe\n",
    "print(bp_freq_df)\n"
   ]
  },
  {
   "cell_type": "markdown",
   "metadata": {},
   "source": [
    "---\n",
    "We now have a dataframe that lists in descending order the frequency of bodyparts.\n",
    "\n",
    "---"
   ]
  },
  {
   "cell_type": "code",
   "execution_count": 76,
   "metadata": {},
   "outputs": [
    {
     "data": {
      "text/html": [
       "<div>\n",
       "<style scoped>\n",
       "    .dataframe tbody tr th:only-of-type {\n",
       "        vertical-align: middle;\n",
       "    }\n",
       "\n",
       "    .dataframe tbody tr th {\n",
       "        vertical-align: top;\n",
       "    }\n",
       "\n",
       "    .dataframe thead th {\n",
       "        text-align: right;\n",
       "    }\n",
       "</style>\n",
       "<table border=\"1\" class=\"dataframe\">\n",
       "  <thead>\n",
       "    <tr style=\"text-align: right;\">\n",
       "      <th></th>\n",
       "      <th>BodyPart</th>\n",
       "      <th>Frequency</th>\n",
       "    </tr>\n",
       "  </thead>\n",
       "  <tbody>\n",
       "    <tr>\n",
       "      <th>0</th>\n",
       "      <td>Head</td>\n",
       "      <td>9891</td>\n",
       "    </tr>\n",
       "    <tr>\n",
       "      <th>1</th>\n",
       "      <td>Face</td>\n",
       "      <td>5786</td>\n",
       "    </tr>\n",
       "    <tr>\n",
       "      <th>2</th>\n",
       "      <td>Finger</td>\n",
       "      <td>5783</td>\n",
       "    </tr>\n",
       "  </tbody>\n",
       "</table>\n",
       "</div>"
      ],
      "text/plain": [
       "  BodyPart  Frequency\n",
       "0     Head       9891\n",
       "1     Face       5786\n",
       "2   Finger       5783"
      ]
     },
     "execution_count": 76,
     "metadata": {},
     "output_type": "execute_result"
    }
   ],
   "source": [
    "# Get the top three body parts most frequently represented in the dataset\n",
    "bp_freq_df.head(3)"
   ]
  },
  {
   "cell_type": "code",
   "execution_count": 77,
   "metadata": {},
   "outputs": [
    {
     "data": {
      "text/html": [
       "<div>\n",
       "<style scoped>\n",
       "    .dataframe tbody tr th:only-of-type {\n",
       "        vertical-align: middle;\n",
       "    }\n",
       "\n",
       "    .dataframe tbody tr th {\n",
       "        vertical-align: top;\n",
       "    }\n",
       "\n",
       "    .dataframe thead th {\n",
       "        text-align: right;\n",
       "    }\n",
       "</style>\n",
       "<table border=\"1\" class=\"dataframe\">\n",
       "  <thead>\n",
       "    <tr style=\"text-align: right;\">\n",
       "      <th></th>\n",
       "      <th>BodyPart</th>\n",
       "      <th>Frequency</th>\n",
       "    </tr>\n",
       "  </thead>\n",
       "  <tbody>\n",
       "    <tr>\n",
       "      <th>23</th>\n",
       "      <td>Not Recorded</td>\n",
       "      <td>390</td>\n",
       "    </tr>\n",
       "    <tr>\n",
       "      <th>24</th>\n",
       "      <td>Pubic region</td>\n",
       "      <td>286</td>\n",
       "    </tr>\n",
       "    <tr>\n",
       "      <th>25</th>\n",
       "      <td>25-50% of body</td>\n",
       "      <td>4</td>\n",
       "    </tr>\n",
       "  </tbody>\n",
       "</table>\n",
       "</div>"
      ],
      "text/plain": [
       "          BodyPart  Frequency\n",
       "23    Not Recorded        390\n",
       "24    Pubic region        286\n",
       "25  25-50% of body          4"
      ]
     },
     "execution_count": 77,
     "metadata": {},
     "output_type": "execute_result"
    }
   ],
   "source": [
    "# Get the top three body parts that are least frequently represented in the dataset\n",
    "bp_freq_df.tail(3)"
   ]
  },
  {
   "cell_type": "markdown",
   "metadata": {},
   "source": [
    "### Important note\n",
    "\n",
    "As we can see, **Not Recorded** and **25-50% of body** are listed as the least frequently represented body parts. But we may consider that they aren't actually \"body parts\". We can create a new data frame that removes these values from the list like so:"
   ]
  },
  {
   "cell_type": "code",
   "execution_count": 78,
   "metadata": {},
   "outputs": [
    {
     "data": {
      "text/html": [
       "<div>\n",
       "<style scoped>\n",
       "    .dataframe tbody tr th:only-of-type {\n",
       "        vertical-align: middle;\n",
       "    }\n",
       "\n",
       "    .dataframe tbody tr th {\n",
       "        vertical-align: top;\n",
       "    }\n",
       "\n",
       "    .dataframe thead th {\n",
       "        text-align: right;\n",
       "    }\n",
       "</style>\n",
       "<table border=\"1\" class=\"dataframe\">\n",
       "  <thead>\n",
       "    <tr style=\"text-align: right;\">\n",
       "      <th></th>\n",
       "      <th>BodyPart</th>\n",
       "      <th>Frequency</th>\n",
       "    </tr>\n",
       "  </thead>\n",
       "  <tbody>\n",
       "    <tr>\n",
       "      <th>21</th>\n",
       "      <td>Arm, upper</td>\n",
       "      <td>745</td>\n",
       "    </tr>\n",
       "    <tr>\n",
       "      <th>22</th>\n",
       "      <td>Internal</td>\n",
       "      <td>549</td>\n",
       "    </tr>\n",
       "    <tr>\n",
       "      <th>24</th>\n",
       "      <td>Pubic region</td>\n",
       "      <td>286</td>\n",
       "    </tr>\n",
       "  </tbody>\n",
       "</table>\n",
       "</div>"
      ],
      "text/plain": [
       "        BodyPart  Frequency\n",
       "21    Arm, upper        745\n",
       "22      Internal        549\n",
       "24  Pubic region        286"
      ]
     },
     "execution_count": 78,
     "metadata": {},
     "output_type": "execute_result"
    }
   ],
   "source": [
    "bp_freq_df = bp_freq_df[(bp_freq_df['BodyPart'] != 'Not Recorded') & (bp_freq_df['BodyPart'] != '25-50% of body')]\n",
    "bp_freq_df.tail(3)"
   ]
  },
  {
   "cell_type": "markdown",
   "metadata": {},
   "source": [
    "# Results\n",
    "\n",
    "The top 3 most frequently body parts represented in this dataset are **Head**, **Face** and **Finger**:\n",
    "\n",
    "BodyPart | Frequency\n",
    "--- | ---\n",
    "Head | 9891\n",
    "Face | 5786\n",
    "Finger | 5783\n",
    "\n",
    "\n",
    "\n",
    "---\n",
    "\n",
    "The top 3 less frequently body parts represented in this dataset are **Arm, upper**, **Internal** and **Pubic region**:\n",
    "\n",
    "BodyPart | Frequency\n",
    "--- | ---\n",
    "Arm, upper | 745\n",
    "Internal | 549\n",
    "Pubic region | 286\n",
    "\n"
   ]
  }
 ],
 "metadata": {
  "kernelspec": {
   "display_name": "Python 3",
   "language": "python",
   "name": "python3"
  },
  "language_info": {
   "codemirror_mode": {
    "name": "ipython",
    "version": 3
   },
   "file_extension": ".py",
   "mimetype": "text/x-python",
   "name": "python",
   "nbconvert_exporter": "python",
   "pygments_lexer": "ipython3",
   "version": "3.6.4"
  }
 },
 "nbformat": 4,
 "nbformat_minor": 2
}
