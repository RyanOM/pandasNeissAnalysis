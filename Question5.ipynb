{
 "cells": [
  {
   "cell_type": "code",
   "execution_count": 2,
   "metadata": {},
   "outputs": [],
   "source": [
    "import pandas as pd\n",
    "import calendar\n",
    "\n",
    "neiss_df = pd.read_csv('NEISS2014.csv')\n",
    "diag_df = pd.read_csv('DiagnosisCodes.csv')\n",
    "\n",
    "# Add DiagnosisCodes data to NEISS dataframe\n",
    "neiss_df = pd.merge(neiss_df, diag_df, left_on='diag', right_on='Code')"
   ]
  },
  {
   "cell_type": "code",
   "execution_count": 3,
   "metadata": {},
   "outputs": [
    {
     "name": "stdout",
     "output_type": "stream",
     "text": [
      "Saturday     9956\n",
      "Sunday       9872\n",
      "Monday       9656\n",
      "Tuesday      9088\n",
      "Wednesday    9021\n",
      "Thursday     9019\n",
      "Friday       8887\n",
      "Name: weekday, dtype: int64\n"
     ]
    }
   ],
   "source": [
    "# Print Nb of patients per weekday\n",
    "neiss_df['trmt_date'] = pd.to_datetime(neiss_df['trmt_date'], errors='coerce')\n",
    "neiss_df['weekday'] = neiss_df['trmt_date'].dt.weekday_name\n",
    "\n",
    "print(neiss_df['weekday'].value_counts())"
   ]
  },
  {
   "cell_type": "code",
   "execution_count": 4,
   "metadata": {},
   "outputs": [
    {
     "name": "stdout",
     "output_type": "stream",
     "text": [
      "May    6698\n",
      "Jun    6230\n",
      "Sep    5865\n",
      "Mar    5739\n",
      "Oct    5675\n",
      "Apr    5584\n",
      "Jul    5420\n",
      "Aug    5334\n",
      "Jan    5076\n",
      "Feb    4944\n",
      "Nov    4509\n",
      "Dec    4425\n",
      "Name: month, dtype: int64\n"
     ]
    }
   ],
   "source": [
    "neiss_df['month'] = neiss_df['trmt_date'].dt.month\n",
    "neiss_df['month'] = neiss_df['month'].apply(lambda x: calendar.month_abbr[x])\n",
    "\n",
    "print(neiss_df['month'].value_counts())"
   ]
  },
  {
   "cell_type": "markdown",
   "metadata": {},
   "source": [
    "# Calendar Results\n",
    "\n",
    "Saturday, Sundays and Mondays have more patients registered than other days of the week.\n",
    "May and June are the months with the highest numbers of patients while November and December have the least.\n",
    "\n",
    "---"
   ]
  },
  {
   "cell_type": "code",
   "execution_count": 5,
   "metadata": {},
   "outputs": [
    {
     "data": {
      "text/plain": [
       "Other/Not Stated                   13\n",
       "Internal organ injury               7\n",
       "Contusions, Abrasions               2\n",
       "Submersion (including Drowning)     2\n",
       "Fracture                            2\n",
       "Poisoning                           1\n",
       "Anoxia                              1\n",
       "Name: Diagnosis, dtype: int64"
      ]
     },
     "execution_count": 5,
     "metadata": {},
     "output_type": "execute_result"
    }
   ],
   "source": [
    "# Let's explore the fatality data\n",
    "DISPO_FATILITY_CODE = 8\n",
    "\n",
    "fatility_df = neiss_df[(neiss_df['disposition'] == DISPO_FATILITY_CODE)]\n",
    "fatility_df['Diagnosis'].value_counts()"
   ]
  },
  {
   "cell_type": "code",
   "execution_count": 6,
   "metadata": {},
   "outputs": [
    {
     "name": "stdout",
     "output_type": "stream",
     "text": [
      "Percentage of 'Other/Not Stated' deaths: 46.4%\n"
     ]
    }
   ],
   "source": [
    "# Get % of Other/Not stated deaths\n",
    "percent_death_other = fatility_df['Diagnosis'].value_counts()[0]/fatility_df['Diagnosis'].value_counts().sum() *100\n",
    "print(\"Percentage of 'Other/Not Stated' deaths: %0.1f%%\" % percent_death_other)"
   ]
  },
  {
   "cell_type": "markdown",
   "metadata": {},
   "source": [
    "# Fatality Results\n",
    "\n",
    "The diagnosis that most resulted in deaths was **Other/Not Stated**: 46.4%. \n",
    "This shows the need to better record the causes of death.\n",
    "\n",
    "**Internal organ injury** was the second most common cause of death: 25%\n"
   ]
  },
  {
   "cell_type": "code",
   "execution_count": 7,
   "metadata": {},
   "outputs": [
    {
     "name": "stdout",
     "output_type": "stream",
     "text": [
      "Percentage of 'Internal organ injury' deaths: 25.0%\n"
     ]
    }
   ],
   "source": [
    "# Get % of Internal organ injury deaths\n",
    "percent_death_internal = fatility_df['Diagnosis'].value_counts()[1]/fatility_df['Diagnosis'].value_counts().sum() *100\n",
    "print(\"Percentage of 'Internal organ injury' deaths: %0.1f%%\" % percent_death_internal)"
   ]
  },
  {
   "cell_type": "markdown",
   "metadata": {},
   "source": [
    "---\n"
   ]
  },
  {
   "cell_type": "code",
   "execution_count": 8,
   "metadata": {},
   "outputs": [
    {
     "name": "stdout",
     "output_type": "stream",
     "text": [
      "                                     Diagnosis  Transfered Total  Total  \\\n",
      "0                                   Amputation                12    125   \n",
      "1                                   Hemorrhage                 4     64   \n",
      "2  Burns, thermal (from flames or hot surface)                29    512   \n",
      "3     Burns, scald (from hot liquids or steam)                20    392   \n",
      "4                      Ingested foreign object                18    483   \n",
      "5                     Aspirated foreign object                 2     66   \n",
      "6                                     Fracture               267   9735   \n",
      "7                                    Poisoning                18    724   \n",
      "8                                     Crushing                 3    149   \n",
      "9                        Internal organ injury               101   5306   \n",
      "\n",
      "   Rate (%)  \n",
      "0  9.600000  \n",
      "1  6.250000  \n",
      "2  5.664062  \n",
      "3  5.102041  \n",
      "4  3.726708  \n",
      "5  3.030303  \n",
      "6  2.742681  \n",
      "7  2.486188  \n",
      "8  2.013423  \n",
      "9  1.903505  \n"
     ]
    }
   ],
   "source": [
    "# Let's explore the Transfered to another hospital data\n",
    "DISPO_TRANSFERED_CODE = 2\n",
    "\n",
    "transfered_df = neiss_df[(neiss_df['disposition'] == DISPO_TRANSFERED_CODE)]\n",
    "\n",
    "# Get dataframe that contains total diagnoses\n",
    "total_diag_df = pd.DataFrame(data=neiss_df['Diagnosis'].value_counts()).reset_index().rename(columns={'index': 'Diagnosis', 'Diagnosis': 'Total'})\n",
    "\n",
    "transfered_diag_df = pd.DataFrame(data=transfered_df['Diagnosis'].value_counts()).reset_index().rename(columns={'index': 'Diagnosis', 'Diagnosis': 'Transfered Total'}) \n",
    "\n",
    "# Create dataframe that contains Hospitalized Number and Total per diagnosis\n",
    "transfered_diag_df = pd.merge(transfered_diag_df, total_diag_df, on='Diagnosis', how=\"left\")\n",
    "\n",
    "# Create new column \"Transfered Number\"/\"Total\" rate\n",
    "transfered_diag_df['Rate (%)'] = (transfered_diag_df['Transfered Total']/transfered_diag_df['Total'] * 100)\n",
    "\n",
    "# Order dataframe by descending by rate\n",
    "print(transfered_diag_df.sort_values('Rate (%)', ascending=False).reset_index(drop=True).head(10))"
   ]
  },
  {
   "cell_type": "markdown",
   "metadata": {},
   "source": [
    "# Transfered to other facilities Results\n",
    "\n",
    "The diagnosis that has the highest transfer rate to other facilities is **Amputation**: 9.6%\n",
    "\n",
    "Even though **Fractures** is the diagnosis that is the most transfered with **267 cases**, this only represents **2.74% of the total cases**"
   ]
  },
  {
   "cell_type": "code",
   "execution_count": null,
   "metadata": {},
   "outputs": [],
   "source": []
  }
 ],
 "metadata": {
  "kernelspec": {
   "display_name": "Python 3",
   "language": "python",
   "name": "python3"
  },
  "language_info": {
   "codemirror_mode": {
    "name": "ipython",
    "version": 3
   },
   "file_extension": ".py",
   "mimetype": "text/x-python",
   "name": "python",
   "nbconvert_exporter": "python",
   "pygments_lexer": "ipython3",
   "version": "3.6.4"
  }
 },
 "nbformat": 4,
 "nbformat_minor": 2
}
