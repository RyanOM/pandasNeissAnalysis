{
 "cells": [
  {
   "cell_type": "code",
   "execution_count": 1,
   "metadata": {},
   "outputs": [
    {
     "name": "stdout",
     "output_type": "stream",
     "text": [
      "                         Diagnosis  Hospitalized Number  Total   Rate (%)\n",
      "0  Submersion (including Drowning)                   23     54  42.592593\n",
      "1                         Fracture                 1811   9735  18.602979\n",
      "2                       Amputation                   20    125  16.000000\n",
      "3                        Poisoning                   88    724  12.154696\n",
      "4            Internal organ injury                  630   5306  11.873351\n"
     ]
    }
   ],
   "source": [
    "import pandas as pd\n",
    "\n",
    "neiss_df = pd.read_csv('NEISS2014.csv')\n",
    "diag_df = pd.read_csv('DiagnosisCodes.csv')\n",
    "\n",
    "HOSPITALIZED_CODE = 4\n",
    "INDIVIDUAL_LEAVING_CODE = 6\n",
    "\n",
    "# Add DiagnosisCodes data to NEISS dataframe\n",
    "neiss_diag_df = pd.merge(neiss_df, diag_df, left_on='diag', right_on='Code')\n",
    "\n",
    "# Get dataframe that contains total diagnoses\n",
    "total_diag_df = pd.DataFrame(data=neiss_diag_df['Diagnosis'].value_counts()).reset_index().rename(columns={'index': 'Diagnosis', 'Diagnosis': 'Total'})\n",
    "\n",
    "# Dataframe with only hospitalized cases\n",
    "hospi_df = neiss_diag_df[(neiss_diag_df['disposition'] == HOSPITALIZED_CODE)]\n",
    "\n",
    "# Get Diagnosis dataframe ordered in descending frequency and rename columns\n",
    "diag_hospi_df = pd.DataFrame(data=hospi_df['Diagnosis'].value_counts()).reset_index().rename(columns={'index': 'Diagnosis', 'Diagnosis': 'Hospitalized Number'})\n",
    "\n",
    "# Create dataframe that contains Hospitalized Number and Total per diagnosis\n",
    "diag_hospi_total = pd.merge(diag_hospi_df, total_diag_df, on='Diagnosis', how=\"left\")\n",
    "\n",
    "# Create new column \"Hospitalized Number\"/\"Total\" rate\n",
    "diag_hospi_total['Rate (%)'] = (diag_hospi_total['Hospitalized Number']/diag_hospi_total['Total'] * 100)\n",
    "\n",
    "# Order dataframe by descending by rate\n",
    "print(diag_hospi_total.sort_values('Rate (%)', ascending=False).reset_index(drop=True).head())"
   ]
  },
  {
   "cell_type": "code",
   "execution_count": 2,
   "metadata": {},
   "outputs": [
    {
     "name": "stdout",
     "output_type": "stream",
     "text": [
      "                                           Diagnosis  Leaving Number  Total  \\\n",
      "0                                          Poisoning              24    724   \n",
      "1                                   Other/Not Stated             257   8120   \n",
      "2                           Aspirated foreign object               2     66   \n",
      "3  Burns, radiation (includes all cell damage by ...               1     35   \n",
      "4                   Burns, chemical (caustics, etc.)               2     86   \n",
      "\n",
      "   Rate (%)  \n",
      "0  3.314917  \n",
      "1  3.165025  \n",
      "2  3.030303  \n",
      "3  2.857143  \n",
      "4  2.325581  \n"
     ]
    }
   ],
   "source": [
    "# Dataframe with individual leaving \n",
    "il_df = neiss_diag_df[(neiss_diag_df['disposition'] == INDIVIDUAL_LEAVING_CODE)]\n",
    "\n",
    "# Get Diagnosis dataframe ordered in descending frequency and rename columns\n",
    "diag_il_df = pd.DataFrame(data=il_df['Diagnosis'].value_counts()).reset_index().rename(columns={'index': 'Diagnosis', 'Diagnosis': 'Leaving Number'})\n",
    "\n",
    "# Create dataframe that contains Leaving Number and Total per diagnosis\n",
    "diag_il_total = pd.merge(diag_il_df, total_diag_df, on='Diagnosis', how=\"left\")\n",
    "\n",
    "# Create new column \"Leaving Number\"/\"Total\" rate\n",
    "diag_il_total['Rate (%)'] = (diag_il_total['Leaving Number']/diag_il_total['Total'] * 100)\n",
    "\n",
    "# Order dataframe by descending by rate\n",
    "print(diag_il_total.sort_values('Rate (%)', ascending=False).reset_index(drop=True).head())"
   ]
  },
  {
   "cell_type": "markdown",
   "metadata": {},
   "source": [
    "# Results\n",
    "\n",
    "**Submersion** had the highest hospitalization rate.\n",
    "\n",
    "---\n",
    "**Poisoning** most often concluded with the individual leaving without being seen\n",
    "\n",
    "---\n",
    "\n",
    "Briefly discuss your findings and any caveats you'd mention when discussing this data:\n",
    "\n",
    "The **narrative** field is plain text / non-structured and not always consistent. \n",
    "For example there are a few different ways to say `the patient left without being seen`: **left w/o being seen**, **left w ithout**, etc\n",
    "Making this data hard to analyze & quantify since it may contain typos\n",
    "\n",
    "The  are also 394 cases where specific body parts aren't mentioned (**Not Recorded** and **25-50% of body**, see Question1)"
   ]
  },
  {
   "cell_type": "code",
   "execution_count": null,
   "metadata": {},
   "outputs": [],
   "source": []
  }
 ],
 "metadata": {
  "kernelspec": {
   "display_name": "Python 3",
   "language": "python",
   "name": "python3"
  },
  "language_info": {
   "codemirror_mode": {
    "name": "ipython",
    "version": 3
   },
   "file_extension": ".py",
   "mimetype": "text/x-python",
   "name": "python",
   "nbconvert_exporter": "python",
   "pygments_lexer": "ipython3",
   "version": "3.6.4"
  }
 },
 "nbformat": 4,
 "nbformat_minor": 2
}
