{
 "cells": [
  {
   "cell_type": "code",
   "execution_count": 35,
   "metadata": {},
   "outputs": [
    {
     "name": "stdout",
     "output_type": "stream",
     "text": [
      "The number of injuries that involved a skateboard: 466\n"
     ]
    }
   ],
   "source": [
    "import pandas as pd\n",
    "\n",
    "neiss_df = pd.read_csv('NEISS2014.csv')\n",
    "\n",
    "# Get data frame where the narrative contains the word skateboard.\n",
    "skateboard_df = neiss_df[neiss_df['narrative'].str.contains(\"skateboard\", case=False)]\n",
    "\n",
    "# Get the number of accidents involving a skateboard\n",
    "nb_skateboard_accidents = len(skateboard_df.index)\n",
    "print(\"The number of injuries that involved a skateboard: %s\" % nb_skateboard_accidents)"
   ]
  },
  {
   "cell_type": "code",
   "execution_count": 56,
   "metadata": {},
   "outputs": [
    {
     "name": "stdout",
     "output_type": "stream",
     "text": [
      "Percentage Male incidents: 82.4%\n",
      "384 Incidents\n"
     ]
    }
   ],
   "source": [
    "# Get the number of injuries that involved a Male\n",
    "nb_male_accidents = len(skateboard_df.loc[skateboard_df['sex'] == \"Male\"].index)\n",
    "print(\"Percentage Male incidents: {:.1%}\".format(nb_male_accidents/nb_skateboard_accidents))\n",
    "print(\"%s Incidents\" % nb_male_accidents)"
   ]
  },
  {
   "cell_type": "code",
   "execution_count": 57,
   "metadata": {},
   "outputs": [
    {
     "name": "stdout",
     "output_type": "stream",
     "text": [
      "Percentage Female incidents: 17.6%\n",
      "82 Incidents\n"
     ]
    }
   ],
   "source": [
    "# Get the number of injuries that involved a Female\n",
    "nb_female_accidents = len(skateboard_df.loc[skateboard_df['sex'] == \"Female\"].index)\n",
    "print(\"Percentage Female incidents: {:.1%}\".format(nb_female_accidents/nb_skateboard_accidents))\n",
    "print(\"%s Incidents\" % nb_female_accidents)"
   ]
  },
  {
   "cell_type": "code",
   "execution_count": 51,
   "metadata": {},
   "outputs": [
    {
     "name": "stdout",
     "output_type": "stream",
     "text": [
      "The average age of someone injured in an incident involving a skateboard: 17.99 years old\n"
     ]
    }
   ],
   "source": [
    "# Sum the age of patients\n",
    "average_age = skateboard_df['age'].mean()\n",
    "print(\"The average age of someone injured in an incident involving a skateboard: %0.2f years old\" % average_age)"
   ]
  },
  {
   "cell_type": "markdown",
   "metadata": {},
   "source": [
    "# Results\n",
    "\n",
    "The number of injuries that involved a skateboard: **466**\n",
    "\n",
    "---\n",
    "\n",
    "Percentage skateboard incidents Female/Male:\n",
    "\n",
    "Sex | Percentage | Nb incidents\n",
    "--- | --- | ---\n",
    "Female | 17.6% | 82\n",
    "Male | 82.4% |  384\n",
    "\n",
    "---\n",
    "\n",
    "The average age of someone injured in an incident involving a skateboard: **17.99 years old**"
   ]
  },
  {
   "cell_type": "code",
   "execution_count": null,
   "metadata": {},
   "outputs": [],
   "source": []
  }
 ],
 "metadata": {
  "kernelspec": {
   "display_name": "Python 3",
   "language": "python",
   "name": "python3"
  },
  "language_info": {
   "codemirror_mode": {
    "name": "ipython",
    "version": 3
   },
   "file_extension": ".py",
   "mimetype": "text/x-python",
   "name": "python",
   "nbconvert_exporter": "python",
   "pygments_lexer": "ipython3",
   "version": "3.6.4"
  }
 },
 "nbformat": 4,
 "nbformat_minor": 2
}
